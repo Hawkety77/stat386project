{
 "cells": [
  {
   "cell_type": "code",
   "execution_count": 1,
   "metadata": {},
   "outputs": [],
   "source": [
    "import requests\n",
    "import pandas as pd\n",
    "import json\n",
    "import time\n",
    "import plotly.express as px\n",
    "import statsmodels.api as sm\n",
    "\n",
    "pd.set_option('display.max_rows', None)\n",
    "pd.set_option('display.max_columns', None)"
   ]
  },
  {
   "cell_type": "markdown",
   "metadata": {},
   "source": [
    "### Pulling Data From API"
   ]
  },
  {
   "cell_type": "code",
   "execution_count": null,
   "metadata": {},
   "outputs": [],
   "source": [
    "url = \"https://zillow56.p.rapidapi.com/search\"\n",
    "\n",
    "with open('api.txt', 'r') as file:\n",
    "    api_key = file.read()\n",
    "\n",
    "headers = {\n",
    "\t\"X-RapidAPI-Key\": api_key,\n",
    "\t\"X-RapidAPI-Host\": \"zillow56.p.rapidapi.com\"\n",
    "}\n",
    "\n",
    "lst_1 = []\n",
    "\n",
    "for page in range(1, 21):\n",
    "    querystring = {\"location\":\"Utah County, UT\", \n",
    "                \"sortSelection\":\"days\", \n",
    "                \"page\":f\"{page}\"}\n",
    "\n",
    "    response = requests.get(url, headers=headers, params=querystring)\n",
    "\n",
    "    data = response.json()\n",
    "    df__ = pd.json_normalize(data['results'])\n",
    "    lst_1.append(df__)\n",
    "    time.sleep(4)\n",
    "\n",
    "df = pd.concat(lst_1)"
   ]
  },
  {
   "cell_type": "code",
   "execution_count": null,
   "metadata": {},
   "outputs": [],
   "source": [
    "# df.to_csv('zillow_orig.csv')"
   ]
  },
  {
   "cell_type": "markdown",
   "metadata": {},
   "source": [
    "### Cleaning the Data"
   ]
  },
  {
   "cell_type": "code",
   "execution_count": 2,
   "metadata": {},
   "outputs": [],
   "source": [
    "## Because I have limited API requests ##\n",
    "df_orig = pd.read_csv('zillow_orig.csv')"
   ]
  },
  {
   "cell_type": "code",
   "execution_count": 5,
   "metadata": {},
   "outputs": [
    {
     "name": "stdout",
     "output_type": "stream",
     "text": [
      "Index(['Unnamed: 0', 'bathrooms', 'bedrooms', 'city', 'country', 'currency',\n",
      "       'daysOnZillow', 'group_type', 'homeStatus', 'homeStatusForHDP',\n",
      "       'homeType', 'imgSrc', 'isFeatured', 'isNonOwnerOccupied',\n",
      "       'isPreforeclosureAuction', 'isPremierBuilder', 'isShowcaseListing',\n",
      "       'isUnmappable', 'isZillowOwned', 'latitude', 'livingArea', 'longitude',\n",
      "       'newConstructionType', 'price', 'priceForHDP', 'priceSuffix',\n",
      "       'providerListingID', 'rentZestimate', 'shouldHighlight', 'state',\n",
      "       'streetAddress', 'unit', 'zipcode', 'zpid',\n",
      "       'listing_sub_type.is_newHome', 'lotAreaUnit', 'lotAreaValue',\n",
      "       'zestimate', 'taxAssessedValue', 'listing_sub_type.is_FSBA',\n",
      "       'openHouse', 'listing_sub_type.is_openHouse',\n",
      "       'open_house_info.open_house_showing', 'datePriceChanged', 'priceChange',\n",
      "       'priceReduction'],\n",
      "      dtype='object')\n"
     ]
    }
   ],
   "source": [
    "print(df_orig.columns)"
   ]
  },
  {
   "cell_type": "code",
   "execution_count": 3,
   "metadata": {},
   "outputs": [],
   "source": [
    "# Dropping columns of no interest\n",
    "df = df_orig[['price', 'bathrooms', 'bedrooms', 'city', 'homeType', 'livingArea', 'zipcode', 'priceReduction', 'daysOnZillow']]\n",
    "df = df[df['homeType'] != 'LOT']"
   ]
  },
  {
   "cell_type": "code",
   "execution_count": 7,
   "metadata": {},
   "outputs": [
    {
     "data": {
      "text/plain": [
       "Index(['price', 'bathrooms', 'bedrooms', 'city', 'homeType', 'livingArea',\n",
       "       'zipcode', 'priceReduction', 'daysOnZillow'],\n",
       "      dtype='object')"
      ]
     },
     "execution_count": 7,
     "metadata": {},
     "output_type": "execute_result"
    }
   ],
   "source": [
    "df.columns"
   ]
  },
  {
   "cell_type": "markdown",
   "metadata": {},
   "source": [
    "### EDA"
   ]
  },
  {
   "cell_type": "markdown",
   "metadata": {},
   "source": [
    "What is the relationship between bathrooms & price?  \n",
    "What is the relationship between bedrooms & price?  \n",
    "What is the relationship between the city & the price?  \n",
    "What is the average price of a 3 bedroom, 2 bathroom home in Spanish Fork?  "
   ]
  },
  {
   "cell_type": "code",
   "execution_count": 4,
   "metadata": {},
   "outputs": [
    {
     "data": {
      "application/vnd.plotly.v1+json": {
       "config": {
        "plotlyServerURL": "https://plot.ly"
       },
       "data": [
        {
         "alignmentgroup": "True",
         "hovertemplate": "city=%{x}<br>price=%{y}<extra></extra>",
         "legendgroup": "",
         "marker": {
          "color": "#636efa",
          "pattern": {
           "shape": ""
          }
         },
         "name": "",
         "offsetgroup": "",
         "orientation": "v",
         "showlegend": false,
         "textposition": "auto",
         "type": "bar",
         "x": [
          "Woodland Hills",
          "Alpine",
          "Draper",
          "Highland",
          "Genola",
          "Elk Ridge",
          "Salem",
          "Mapleton",
          "Heber City",
          "Lindon",
          "Saratoga Springs",
          "Vineyard",
          "Lehi",
          "Cedar Hills",
          "American Fork",
          "Payson",
          "Eagle Mountain",
          "Springville",
          "Goshen",
          "Pleasant Grove",
          "Orem",
          "Santaquin",
          "Provo",
          "Spanish Fork"
         ],
         "xaxis": "x",
         "y": [
          3390000,
          2670000,
          1575000,
          950000,
          830000,
          789000,
          774950,
          749900,
          654900,
          639450,
          620450,
          604777.5,
          587950,
          570000,
          519990,
          519967,
          517400,
          512449.5,
          501999.5,
          499990,
          457500,
          454000,
          444995,
          440000
         ],
         "yaxis": "y"
        }
       ],
       "layout": {
        "barmode": "relative",
        "legend": {
         "tracegroupgap": 0
        },
        "margin": {
         "t": 60
        },
        "template": {
         "data": {
          "bar": [
           {
            "error_x": {
             "color": "#2a3f5f"
            },
            "error_y": {
             "color": "#2a3f5f"
            },
            "marker": {
             "line": {
              "color": "#E5ECF6",
              "width": 0.5
             },
             "pattern": {
              "fillmode": "overlay",
              "size": 10,
              "solidity": 0.2
             }
            },
            "type": "bar"
           }
          ],
          "barpolar": [
           {
            "marker": {
             "line": {
              "color": "#E5ECF6",
              "width": 0.5
             },
             "pattern": {
              "fillmode": "overlay",
              "size": 10,
              "solidity": 0.2
             }
            },
            "type": "barpolar"
           }
          ],
          "carpet": [
           {
            "aaxis": {
             "endlinecolor": "#2a3f5f",
             "gridcolor": "white",
             "linecolor": "white",
             "minorgridcolor": "white",
             "startlinecolor": "#2a3f5f"
            },
            "baxis": {
             "endlinecolor": "#2a3f5f",
             "gridcolor": "white",
             "linecolor": "white",
             "minorgridcolor": "white",
             "startlinecolor": "#2a3f5f"
            },
            "type": "carpet"
           }
          ],
          "choropleth": [
           {
            "colorbar": {
             "outlinewidth": 0,
             "ticks": ""
            },
            "type": "choropleth"
           }
          ],
          "contour": [
           {
            "colorbar": {
             "outlinewidth": 0,
             "ticks": ""
            },
            "colorscale": [
             [
              0,
              "#0d0887"
             ],
             [
              0.1111111111111111,
              "#46039f"
             ],
             [
              0.2222222222222222,
              "#7201a8"
             ],
             [
              0.3333333333333333,
              "#9c179e"
             ],
             [
              0.4444444444444444,
              "#bd3786"
             ],
             [
              0.5555555555555556,
              "#d8576b"
             ],
             [
              0.6666666666666666,
              "#ed7953"
             ],
             [
              0.7777777777777778,
              "#fb9f3a"
             ],
             [
              0.8888888888888888,
              "#fdca26"
             ],
             [
              1,
              "#f0f921"
             ]
            ],
            "type": "contour"
           }
          ],
          "contourcarpet": [
           {
            "colorbar": {
             "outlinewidth": 0,
             "ticks": ""
            },
            "type": "contourcarpet"
           }
          ],
          "heatmap": [
           {
            "colorbar": {
             "outlinewidth": 0,
             "ticks": ""
            },
            "colorscale": [
             [
              0,
              "#0d0887"
             ],
             [
              0.1111111111111111,
              "#46039f"
             ],
             [
              0.2222222222222222,
              "#7201a8"
             ],
             [
              0.3333333333333333,
              "#9c179e"
             ],
             [
              0.4444444444444444,
              "#bd3786"
             ],
             [
              0.5555555555555556,
              "#d8576b"
             ],
             [
              0.6666666666666666,
              "#ed7953"
             ],
             [
              0.7777777777777778,
              "#fb9f3a"
             ],
             [
              0.8888888888888888,
              "#fdca26"
             ],
             [
              1,
              "#f0f921"
             ]
            ],
            "type": "heatmap"
           }
          ],
          "heatmapgl": [
           {
            "colorbar": {
             "outlinewidth": 0,
             "ticks": ""
            },
            "colorscale": [
             [
              0,
              "#0d0887"
             ],
             [
              0.1111111111111111,
              "#46039f"
             ],
             [
              0.2222222222222222,
              "#7201a8"
             ],
             [
              0.3333333333333333,
              "#9c179e"
             ],
             [
              0.4444444444444444,
              "#bd3786"
             ],
             [
              0.5555555555555556,
              "#d8576b"
             ],
             [
              0.6666666666666666,
              "#ed7953"
             ],
             [
              0.7777777777777778,
              "#fb9f3a"
             ],
             [
              0.8888888888888888,
              "#fdca26"
             ],
             [
              1,
              "#f0f921"
             ]
            ],
            "type": "heatmapgl"
           }
          ],
          "histogram": [
           {
            "marker": {
             "pattern": {
              "fillmode": "overlay",
              "size": 10,
              "solidity": 0.2
             }
            },
            "type": "histogram"
           }
          ],
          "histogram2d": [
           {
            "colorbar": {
             "outlinewidth": 0,
             "ticks": ""
            },
            "colorscale": [
             [
              0,
              "#0d0887"
             ],
             [
              0.1111111111111111,
              "#46039f"
             ],
             [
              0.2222222222222222,
              "#7201a8"
             ],
             [
              0.3333333333333333,
              "#9c179e"
             ],
             [
              0.4444444444444444,
              "#bd3786"
             ],
             [
              0.5555555555555556,
              "#d8576b"
             ],
             [
              0.6666666666666666,
              "#ed7953"
             ],
             [
              0.7777777777777778,
              "#fb9f3a"
             ],
             [
              0.8888888888888888,
              "#fdca26"
             ],
             [
              1,
              "#f0f921"
             ]
            ],
            "type": "histogram2d"
           }
          ],
          "histogram2dcontour": [
           {
            "colorbar": {
             "outlinewidth": 0,
             "ticks": ""
            },
            "colorscale": [
             [
              0,
              "#0d0887"
             ],
             [
              0.1111111111111111,
              "#46039f"
             ],
             [
              0.2222222222222222,
              "#7201a8"
             ],
             [
              0.3333333333333333,
              "#9c179e"
             ],
             [
              0.4444444444444444,
              "#bd3786"
             ],
             [
              0.5555555555555556,
              "#d8576b"
             ],
             [
              0.6666666666666666,
              "#ed7953"
             ],
             [
              0.7777777777777778,
              "#fb9f3a"
             ],
             [
              0.8888888888888888,
              "#fdca26"
             ],
             [
              1,
              "#f0f921"
             ]
            ],
            "type": "histogram2dcontour"
           }
          ],
          "mesh3d": [
           {
            "colorbar": {
             "outlinewidth": 0,
             "ticks": ""
            },
            "type": "mesh3d"
           }
          ],
          "parcoords": [
           {
            "line": {
             "colorbar": {
              "outlinewidth": 0,
              "ticks": ""
             }
            },
            "type": "parcoords"
           }
          ],
          "pie": [
           {
            "automargin": true,
            "type": "pie"
           }
          ],
          "scatter": [
           {
            "fillpattern": {
             "fillmode": "overlay",
             "size": 10,
             "solidity": 0.2
            },
            "type": "scatter"
           }
          ],
          "scatter3d": [
           {
            "line": {
             "colorbar": {
              "outlinewidth": 0,
              "ticks": ""
             }
            },
            "marker": {
             "colorbar": {
              "outlinewidth": 0,
              "ticks": ""
             }
            },
            "type": "scatter3d"
           }
          ],
          "scattercarpet": [
           {
            "marker": {
             "colorbar": {
              "outlinewidth": 0,
              "ticks": ""
             }
            },
            "type": "scattercarpet"
           }
          ],
          "scattergeo": [
           {
            "marker": {
             "colorbar": {
              "outlinewidth": 0,
              "ticks": ""
             }
            },
            "type": "scattergeo"
           }
          ],
          "scattergl": [
           {
            "marker": {
             "colorbar": {
              "outlinewidth": 0,
              "ticks": ""
             }
            },
            "type": "scattergl"
           }
          ],
          "scattermapbox": [
           {
            "marker": {
             "colorbar": {
              "outlinewidth": 0,
              "ticks": ""
             }
            },
            "type": "scattermapbox"
           }
          ],
          "scatterpolar": [
           {
            "marker": {
             "colorbar": {
              "outlinewidth": 0,
              "ticks": ""
             }
            },
            "type": "scatterpolar"
           }
          ],
          "scatterpolargl": [
           {
            "marker": {
             "colorbar": {
              "outlinewidth": 0,
              "ticks": ""
             }
            },
            "type": "scatterpolargl"
           }
          ],
          "scatterternary": [
           {
            "marker": {
             "colorbar": {
              "outlinewidth": 0,
              "ticks": ""
             }
            },
            "type": "scatterternary"
           }
          ],
          "surface": [
           {
            "colorbar": {
             "outlinewidth": 0,
             "ticks": ""
            },
            "colorscale": [
             [
              0,
              "#0d0887"
             ],
             [
              0.1111111111111111,
              "#46039f"
             ],
             [
              0.2222222222222222,
              "#7201a8"
             ],
             [
              0.3333333333333333,
              "#9c179e"
             ],
             [
              0.4444444444444444,
              "#bd3786"
             ],
             [
              0.5555555555555556,
              "#d8576b"
             ],
             [
              0.6666666666666666,
              "#ed7953"
             ],
             [
              0.7777777777777778,
              "#fb9f3a"
             ],
             [
              0.8888888888888888,
              "#fdca26"
             ],
             [
              1,
              "#f0f921"
             ]
            ],
            "type": "surface"
           }
          ],
          "table": [
           {
            "cells": {
             "fill": {
              "color": "#EBF0F8"
             },
             "line": {
              "color": "white"
             }
            },
            "header": {
             "fill": {
              "color": "#C8D4E3"
             },
             "line": {
              "color": "white"
             }
            },
            "type": "table"
           }
          ]
         },
         "layout": {
          "annotationdefaults": {
           "arrowcolor": "#2a3f5f",
           "arrowhead": 0,
           "arrowwidth": 1
          },
          "autotypenumbers": "strict",
          "coloraxis": {
           "colorbar": {
            "outlinewidth": 0,
            "ticks": ""
           }
          },
          "colorscale": {
           "diverging": [
            [
             0,
             "#8e0152"
            ],
            [
             0.1,
             "#c51b7d"
            ],
            [
             0.2,
             "#de77ae"
            ],
            [
             0.3,
             "#f1b6da"
            ],
            [
             0.4,
             "#fde0ef"
            ],
            [
             0.5,
             "#f7f7f7"
            ],
            [
             0.6,
             "#e6f5d0"
            ],
            [
             0.7,
             "#b8e186"
            ],
            [
             0.8,
             "#7fbc41"
            ],
            [
             0.9,
             "#4d9221"
            ],
            [
             1,
             "#276419"
            ]
           ],
           "sequential": [
            [
             0,
             "#0d0887"
            ],
            [
             0.1111111111111111,
             "#46039f"
            ],
            [
             0.2222222222222222,
             "#7201a8"
            ],
            [
             0.3333333333333333,
             "#9c179e"
            ],
            [
             0.4444444444444444,
             "#bd3786"
            ],
            [
             0.5555555555555556,
             "#d8576b"
            ],
            [
             0.6666666666666666,
             "#ed7953"
            ],
            [
             0.7777777777777778,
             "#fb9f3a"
            ],
            [
             0.8888888888888888,
             "#fdca26"
            ],
            [
             1,
             "#f0f921"
            ]
           ],
           "sequentialminus": [
            [
             0,
             "#0d0887"
            ],
            [
             0.1111111111111111,
             "#46039f"
            ],
            [
             0.2222222222222222,
             "#7201a8"
            ],
            [
             0.3333333333333333,
             "#9c179e"
            ],
            [
             0.4444444444444444,
             "#bd3786"
            ],
            [
             0.5555555555555556,
             "#d8576b"
            ],
            [
             0.6666666666666666,
             "#ed7953"
            ],
            [
             0.7777777777777778,
             "#fb9f3a"
            ],
            [
             0.8888888888888888,
             "#fdca26"
            ],
            [
             1,
             "#f0f921"
            ]
           ]
          },
          "colorway": [
           "#636efa",
           "#EF553B",
           "#00cc96",
           "#ab63fa",
           "#FFA15A",
           "#19d3f3",
           "#FF6692",
           "#B6E880",
           "#FF97FF",
           "#FECB52"
          ],
          "font": {
           "color": "#2a3f5f"
          },
          "geo": {
           "bgcolor": "white",
           "lakecolor": "white",
           "landcolor": "#E5ECF6",
           "showlakes": true,
           "showland": true,
           "subunitcolor": "white"
          },
          "hoverlabel": {
           "align": "left"
          },
          "hovermode": "closest",
          "mapbox": {
           "style": "light"
          },
          "paper_bgcolor": "white",
          "plot_bgcolor": "#E5ECF6",
          "polar": {
           "angularaxis": {
            "gridcolor": "white",
            "linecolor": "white",
            "ticks": ""
           },
           "bgcolor": "#E5ECF6",
           "radialaxis": {
            "gridcolor": "white",
            "linecolor": "white",
            "ticks": ""
           }
          },
          "scene": {
           "xaxis": {
            "backgroundcolor": "#E5ECF6",
            "gridcolor": "white",
            "gridwidth": 2,
            "linecolor": "white",
            "showbackground": true,
            "ticks": "",
            "zerolinecolor": "white"
           },
           "yaxis": {
            "backgroundcolor": "#E5ECF6",
            "gridcolor": "white",
            "gridwidth": 2,
            "linecolor": "white",
            "showbackground": true,
            "ticks": "",
            "zerolinecolor": "white"
           },
           "zaxis": {
            "backgroundcolor": "#E5ECF6",
            "gridcolor": "white",
            "gridwidth": 2,
            "linecolor": "white",
            "showbackground": true,
            "ticks": "",
            "zerolinecolor": "white"
           }
          },
          "shapedefaults": {
           "line": {
            "color": "#2a3f5f"
           }
          },
          "ternary": {
           "aaxis": {
            "gridcolor": "white",
            "linecolor": "white",
            "ticks": ""
           },
           "baxis": {
            "gridcolor": "white",
            "linecolor": "white",
            "ticks": ""
           },
           "bgcolor": "#E5ECF6",
           "caxis": {
            "gridcolor": "white",
            "linecolor": "white",
            "ticks": ""
           }
          },
          "title": {
           "x": 0.05
          },
          "xaxis": {
           "automargin": true,
           "gridcolor": "white",
           "linecolor": "white",
           "ticks": "",
           "title": {
            "standoff": 15
           },
           "zerolinecolor": "white",
           "zerolinewidth": 2
          },
          "yaxis": {
           "automargin": true,
           "gridcolor": "white",
           "linecolor": "white",
           "ticks": "",
           "title": {
            "standoff": 15
           },
           "zerolinecolor": "white",
           "zerolinewidth": 2
          }
         }
        },
        "xaxis": {
         "anchor": "y",
         "domain": [
          0,
          1
         ],
         "title": {
          "text": "city"
         }
        },
        "yaxis": {
         "anchor": "x",
         "domain": [
          0,
          1
         ],
         "title": {
          "text": "price"
         }
        }
       }
      }
     },
     "metadata": {},
     "output_type": "display_data"
    }
   ],
   "source": [
    "df_avg_price_per_city = df.groupby('city').median(numeric_only = True).reset_index().sort_values('price', ascending = False)\n",
    "fig = px.bar(df_avg_price_per_city, x = 'city', y = 'price')\n",
    "fig.show()\n",
    "fig.write_image('bar_chart_preliminary.png')\n"
   ]
  },
  {
   "cell_type": "code",
   "execution_count": 37,
   "metadata": {},
   "outputs": [
    {
     "data": {
      "text/html": [
       "<table class=\"simpletable\">\n",
       "<caption>OLS Regression Results</caption>\n",
       "<tr>\n",
       "  <th>Dep. Variable:</th>          <td>price</td>      <th>  R-squared (uncentered):</th>      <td>   0.851</td> \n",
       "</tr>\n",
       "<tr>\n",
       "  <th>Model:</th>                   <td>OLS</td>       <th>  Adj. R-squared (uncentered):</th> <td>   0.842</td> \n",
       "</tr>\n",
       "<tr>\n",
       "  <th>Method:</th>             <td>Least Squares</td>  <th>  F-statistic:       </th>          <td>   92.76</td> \n",
       "</tr>\n",
       "<tr>\n",
       "  <th>Date:</th>             <td>Wed, 08 Nov 2023</td> <th>  Prob (F-statistic):</th>          <td>2.72e-186</td>\n",
       "</tr>\n",
       "<tr>\n",
       "  <th>Time:</th>                 <td>21:16:23</td>     <th>  Log-Likelihood:    </th>          <td> -7658.7</td> \n",
       "</tr>\n",
       "<tr>\n",
       "  <th>No. Observations:</th>      <td>   534</td>      <th>  AIC:               </th>          <td>1.538e+04</td>\n",
       "</tr>\n",
       "<tr>\n",
       "  <th>Df Residuals:</th>          <td>   503</td>      <th>  BIC:               </th>          <td>1.551e+04</td>\n",
       "</tr>\n",
       "<tr>\n",
       "  <th>Df Model:</th>              <td>    31</td>      <th>                     </th>              <td> </td>    \n",
       "</tr>\n",
       "<tr>\n",
       "  <th>Covariance Type:</th>      <td>nonrobust</td>    <th>                     </th>              <td> </td>    \n",
       "</tr>\n",
       "</table>\n",
       "<table class=\"simpletable\">\n",
       "<tr>\n",
       "          <td></td>            <th>coef</th>     <th>std err</th>      <th>t</th>      <th>P>|t|</th>  <th>[0.025</th>    <th>0.975]</th>  \n",
       "</tr>\n",
       "<tr>\n",
       "  <th>bathrooms</th>        <td> 1.527e+05</td> <td> 2.73e+04</td> <td>    5.585</td> <td> 0.000</td> <td>  9.9e+04</td> <td> 2.06e+05</td>\n",
       "</tr>\n",
       "<tr>\n",
       "  <th>bedrooms</th>         <td>-1.095e+04</td> <td> 2.26e+04</td> <td>   -0.486</td> <td> 0.627</td> <td>-5.53e+04</td> <td> 3.34e+04</td>\n",
       "</tr>\n",
       "<tr>\n",
       "  <th>livingArea</th>       <td>  213.0015</td> <td>   15.828</td> <td>   13.457</td> <td> 0.000</td> <td>  181.904</td> <td>  244.099</td>\n",
       "</tr>\n",
       "<tr>\n",
       "  <th>daysOnZillow</th>     <td> 9774.9552</td> <td> 2826.899</td> <td>    3.458</td> <td> 0.001</td> <td> 4220.971</td> <td> 1.53e+04</td>\n",
       "</tr>\n",
       "<tr>\n",
       "  <th>American Fork</th>    <td>-5.295e+05</td> <td> 9.11e+04</td> <td>   -5.811</td> <td> 0.000</td> <td>-7.09e+05</td> <td>-3.51e+05</td>\n",
       "</tr>\n",
       "<tr>\n",
       "  <th>Cedar Hills</th>      <td>-4.392e+05</td> <td> 2.59e+05</td> <td>   -1.697</td> <td> 0.090</td> <td>-9.48e+05</td> <td> 6.93e+04</td>\n",
       "</tr>\n",
       "<tr>\n",
       "  <th>Draper</th>           <td>-3.951e+05</td> <td> 2.28e+05</td> <td>   -1.733</td> <td> 0.084</td> <td>-8.43e+05</td> <td> 5.27e+04</td>\n",
       "</tr>\n",
       "<tr>\n",
       "  <th>Eagle Mountain</th>   <td>-7.114e+05</td> <td> 9.46e+04</td> <td>   -7.519</td> <td> 0.000</td> <td>-8.97e+05</td> <td>-5.26e+05</td>\n",
       "</tr>\n",
       "<tr>\n",
       "  <th>Elk Ridge</th>        <td>-7.932e+05</td> <td> 4.33e+05</td> <td>   -1.833</td> <td> 0.067</td> <td>-1.64e+06</td> <td> 5.68e+04</td>\n",
       "</tr>\n",
       "<tr>\n",
       "  <th>Genola</th>           <td>-3.463e+05</td> <td> 4.34e+05</td> <td>   -0.799</td> <td> 0.425</td> <td> -1.2e+06</td> <td> 5.06e+05</td>\n",
       "</tr>\n",
       "<tr>\n",
       "  <th>Goshen</th>           <td>-9.194e+05</td> <td> 3.14e+05</td> <td>   -2.929</td> <td> 0.004</td> <td>-1.54e+06</td> <td>-3.03e+05</td>\n",
       "</tr>\n",
       "<tr>\n",
       "  <th>Heber City</th>       <td>-5.514e+05</td> <td> 1.62e+05</td> <td>   -3.397</td> <td> 0.001</td> <td> -8.7e+05</td> <td>-2.32e+05</td>\n",
       "</tr>\n",
       "<tr>\n",
       "  <th>Highland</th>         <td>-6.126e+05</td> <td> 1.65e+05</td> <td>   -3.712</td> <td> 0.000</td> <td>-9.37e+05</td> <td>-2.88e+05</td>\n",
       "</tr>\n",
       "<tr>\n",
       "  <th>Lehi</th>             <td>-6.698e+05</td> <td> 9.51e+04</td> <td>   -7.044</td> <td> 0.000</td> <td>-8.57e+05</td> <td>-4.83e+05</td>\n",
       "</tr>\n",
       "<tr>\n",
       "  <th>Lindon</th>           <td>-8.118e+05</td> <td> 1.94e+05</td> <td>   -4.176</td> <td> 0.000</td> <td>-1.19e+06</td> <td> -4.3e+05</td>\n",
       "</tr>\n",
       "<tr>\n",
       "  <th>Mapleton</th>         <td>-7.699e+05</td> <td> 1.22e+05</td> <td>   -6.312</td> <td> 0.000</td> <td>-1.01e+06</td> <td> -5.3e+05</td>\n",
       "</tr>\n",
       "<tr>\n",
       "  <th>Orem</th>             <td>-5.598e+05</td> <td> 9.75e+04</td> <td>   -5.739</td> <td> 0.000</td> <td>-7.51e+05</td> <td>-3.68e+05</td>\n",
       "</tr>\n",
       "<tr>\n",
       "  <th>Payson</th>           <td>-5.285e+05</td> <td> 1.23e+05</td> <td>   -4.300</td> <td> 0.000</td> <td> -7.7e+05</td> <td>-2.87e+05</td>\n",
       "</tr>\n",
       "<tr>\n",
       "  <th>Pleasant Grove</th>   <td>-5.475e+05</td> <td> 1.36e+05</td> <td>   -4.014</td> <td> 0.000</td> <td>-8.15e+05</td> <td> -2.8e+05</td>\n",
       "</tr>\n",
       "<tr>\n",
       "  <th>Provo</th>            <td>-4.944e+05</td> <td> 9.93e+04</td> <td>   -4.981</td> <td> 0.000</td> <td>-6.89e+05</td> <td>-2.99e+05</td>\n",
       "</tr>\n",
       "<tr>\n",
       "  <th>Salem</th>            <td>-2.428e+05</td> <td>  1.3e+05</td> <td>   -1.863</td> <td> 0.063</td> <td>-4.99e+05</td> <td> 1.33e+04</td>\n",
       "</tr>\n",
       "<tr>\n",
       "  <th>Santaquin</th>        <td>-5.796e+05</td> <td> 1.45e+05</td> <td>   -3.998</td> <td> 0.000</td> <td>-8.64e+05</td> <td>-2.95e+05</td>\n",
       "</tr>\n",
       "<tr>\n",
       "  <th>Saratoga Springs</th> <td>-6.173e+05</td> <td> 8.69e+04</td> <td>   -7.100</td> <td> 0.000</td> <td>-7.88e+05</td> <td>-4.46e+05</td>\n",
       "</tr>\n",
       "<tr>\n",
       "  <th>Spanish Fork</th>     <td>-6.455e+05</td> <td> 1.19e+05</td> <td>   -5.404</td> <td> 0.000</td> <td> -8.8e+05</td> <td>-4.11e+05</td>\n",
       "</tr>\n",
       "<tr>\n",
       "  <th>Springville</th>      <td> -4.54e+05</td> <td> 1.13e+05</td> <td>   -4.010</td> <td> 0.000</td> <td>-6.76e+05</td> <td>-2.32e+05</td>\n",
       "</tr>\n",
       "<tr>\n",
       "  <th>Vineyard</th>         <td> -5.76e+05</td> <td> 1.67e+05</td> <td>   -3.456</td> <td> 0.001</td> <td>-9.03e+05</td> <td>-2.49e+05</td>\n",
       "</tr>\n",
       "<tr>\n",
       "  <th>Woodland Hills</th>   <td> 9.147e+05</td> <td> 2.64e+05</td> <td>    3.462</td> <td> 0.001</td> <td> 3.96e+05</td> <td> 1.43e+06</td>\n",
       "</tr>\n",
       "<tr>\n",
       "  <th>MANUFACTURED</th>     <td> 6.099e+04</td> <td> 3.13e+05</td> <td>    0.195</td> <td> 0.845</td> <td>-5.53e+05</td> <td> 6.75e+05</td>\n",
       "</tr>\n",
       "<tr>\n",
       "  <th>MULTI_FAMILY</th>     <td> 2.248e+05</td> <td> 1.43e+05</td> <td>    1.568</td> <td> 0.118</td> <td>-5.69e+04</td> <td> 5.06e+05</td>\n",
       "</tr>\n",
       "<tr>\n",
       "  <th>SINGLE_FAMILY</th>    <td> 1.938e+05</td> <td> 8.84e+04</td> <td>    2.192</td> <td> 0.029</td> <td> 2.01e+04</td> <td> 3.67e+05</td>\n",
       "</tr>\n",
       "<tr>\n",
       "  <th>TOWNHOUSE</th>        <td> 1.821e+05</td> <td> 9.36e+04</td> <td>    1.947</td> <td> 0.052</td> <td>-1657.277</td> <td> 3.66e+05</td>\n",
       "</tr>\n",
       "</table>\n",
       "<table class=\"simpletable\">\n",
       "<tr>\n",
       "  <th>Omnibus:</th>       <td>515.832</td> <th>  Durbin-Watson:     </th> <td>   1.918</td> \n",
       "</tr>\n",
       "<tr>\n",
       "  <th>Prob(Omnibus):</th> <td> 0.000</td>  <th>  Jarque-Bera (JB):  </th> <td>40297.338</td>\n",
       "</tr>\n",
       "<tr>\n",
       "  <th>Skew:</th>          <td> 3.945</td>  <th>  Prob(JB):          </th> <td>    0.00</td> \n",
       "</tr>\n",
       "<tr>\n",
       "  <th>Kurtosis:</th>      <td>44.819</td>  <th>  Cond. No.          </th> <td>9.27e+04</td> \n",
       "</tr>\n",
       "</table><br/><br/>Notes:<br/>[1] R² is computed without centering (uncentered) since the model does not contain a constant.<br/>[2] Standard Errors assume that the covariance matrix of the errors is correctly specified.<br/>[3] The condition number is large, 9.27e+04. This might indicate that there are<br/>strong multicollinearity or other numerical problems."
      ],
      "text/latex": [
       "\\begin{center}\n",
       "\\begin{tabular}{lclc}\n",
       "\\toprule\n",
       "\\textbf{Dep. Variable:}    &      price       & \\textbf{  R-squared (uncentered):}      &     0.851   \\\\\n",
       "\\textbf{Model:}            &       OLS        & \\textbf{  Adj. R-squared (uncentered):} &     0.842   \\\\\n",
       "\\textbf{Method:}           &  Least Squares   & \\textbf{  F-statistic:       }          &     92.76   \\\\\n",
       "\\textbf{Date:}             & Wed, 08 Nov 2023 & \\textbf{  Prob (F-statistic):}          & 2.72e-186   \\\\\n",
       "\\textbf{Time:}             &     21:16:23     & \\textbf{  Log-Likelihood:    }          &   -7658.7   \\\\\n",
       "\\textbf{No. Observations:} &         534      & \\textbf{  AIC:               }          & 1.538e+04   \\\\\n",
       "\\textbf{Df Residuals:}     &         503      & \\textbf{  BIC:               }          & 1.551e+04   \\\\\n",
       "\\textbf{Df Model:}         &          31      & \\textbf{                     }          &             \\\\\n",
       "\\textbf{Covariance Type:}  &    nonrobust     & \\textbf{                     }          &             \\\\\n",
       "\\bottomrule\n",
       "\\end{tabular}\n",
       "\\begin{tabular}{lcccccc}\n",
       "                          & \\textbf{coef} & \\textbf{std err} & \\textbf{t} & \\textbf{P$> |$t$|$} & \\textbf{[0.025} & \\textbf{0.975]}  \\\\\n",
       "\\midrule\n",
       "\\textbf{bathrooms}        &    1.527e+05  &     2.73e+04     &     5.585  &         0.000        &      9.9e+04    &     2.06e+05     \\\\\n",
       "\\textbf{bedrooms}         &   -1.095e+04  &     2.26e+04     &    -0.486  &         0.627        &    -5.53e+04    &     3.34e+04     \\\\\n",
       "\\textbf{livingArea}       &     213.0015  &       15.828     &    13.457  &         0.000        &      181.904    &      244.099     \\\\\n",
       "\\textbf{daysOnZillow}     &    9774.9552  &     2826.899     &     3.458  &         0.001        &     4220.971    &     1.53e+04     \\\\\n",
       "\\textbf{American Fork}    &   -5.295e+05  &     9.11e+04     &    -5.811  &         0.000        &    -7.09e+05    &    -3.51e+05     \\\\\n",
       "\\textbf{Cedar Hills}      &   -4.392e+05  &     2.59e+05     &    -1.697  &         0.090        &    -9.48e+05    &     6.93e+04     \\\\\n",
       "\\textbf{Draper}           &   -3.951e+05  &     2.28e+05     &    -1.733  &         0.084        &    -8.43e+05    &     5.27e+04     \\\\\n",
       "\\textbf{Eagle Mountain}   &   -7.114e+05  &     9.46e+04     &    -7.519  &         0.000        &    -8.97e+05    &    -5.26e+05     \\\\\n",
       "\\textbf{Elk Ridge}        &   -7.932e+05  &     4.33e+05     &    -1.833  &         0.067        &    -1.64e+06    &     5.68e+04     \\\\\n",
       "\\textbf{Genola}           &   -3.463e+05  &     4.34e+05     &    -0.799  &         0.425        &     -1.2e+06    &     5.06e+05     \\\\\n",
       "\\textbf{Goshen}           &   -9.194e+05  &     3.14e+05     &    -2.929  &         0.004        &    -1.54e+06    &    -3.03e+05     \\\\\n",
       "\\textbf{Heber City}       &   -5.514e+05  &     1.62e+05     &    -3.397  &         0.001        &     -8.7e+05    &    -2.32e+05     \\\\\n",
       "\\textbf{Highland}         &   -6.126e+05  &     1.65e+05     &    -3.712  &         0.000        &    -9.37e+05    &    -2.88e+05     \\\\\n",
       "\\textbf{Lehi}             &   -6.698e+05  &     9.51e+04     &    -7.044  &         0.000        &    -8.57e+05    &    -4.83e+05     \\\\\n",
       "\\textbf{Lindon}           &   -8.118e+05  &     1.94e+05     &    -4.176  &         0.000        &    -1.19e+06    &     -4.3e+05     \\\\\n",
       "\\textbf{Mapleton}         &   -7.699e+05  &     1.22e+05     &    -6.312  &         0.000        &    -1.01e+06    &     -5.3e+05     \\\\\n",
       "\\textbf{Orem}             &   -5.598e+05  &     9.75e+04     &    -5.739  &         0.000        &    -7.51e+05    &    -3.68e+05     \\\\\n",
       "\\textbf{Payson}           &   -5.285e+05  &     1.23e+05     &    -4.300  &         0.000        &     -7.7e+05    &    -2.87e+05     \\\\\n",
       "\\textbf{Pleasant Grove}   &   -5.475e+05  &     1.36e+05     &    -4.014  &         0.000        &    -8.15e+05    &     -2.8e+05     \\\\\n",
       "\\textbf{Provo}            &   -4.944e+05  &     9.93e+04     &    -4.981  &         0.000        &    -6.89e+05    &    -2.99e+05     \\\\\n",
       "\\textbf{Salem}            &   -2.428e+05  &      1.3e+05     &    -1.863  &         0.063        &    -4.99e+05    &     1.33e+04     \\\\\n",
       "\\textbf{Santaquin}        &   -5.796e+05  &     1.45e+05     &    -3.998  &         0.000        &    -8.64e+05    &    -2.95e+05     \\\\\n",
       "\\textbf{Saratoga Springs} &   -6.173e+05  &     8.69e+04     &    -7.100  &         0.000        &    -7.88e+05    &    -4.46e+05     \\\\\n",
       "\\textbf{Spanish Fork}     &   -6.455e+05  &     1.19e+05     &    -5.404  &         0.000        &     -8.8e+05    &    -4.11e+05     \\\\\n",
       "\\textbf{Springville}      &    -4.54e+05  &     1.13e+05     &    -4.010  &         0.000        &    -6.76e+05    &    -2.32e+05     \\\\\n",
       "\\textbf{Vineyard}         &    -5.76e+05  &     1.67e+05     &    -3.456  &         0.001        &    -9.03e+05    &    -2.49e+05     \\\\\n",
       "\\textbf{Woodland Hills}   &    9.147e+05  &     2.64e+05     &     3.462  &         0.001        &     3.96e+05    &     1.43e+06     \\\\\n",
       "\\textbf{MANUFACTURED}     &    6.099e+04  &     3.13e+05     &     0.195  &         0.845        &    -5.53e+05    &     6.75e+05     \\\\\n",
       "\\textbf{MULTI\\_FAMILY}    &    2.248e+05  &     1.43e+05     &     1.568  &         0.118        &    -5.69e+04    &     5.06e+05     \\\\\n",
       "\\textbf{SINGLE\\_FAMILY}   &    1.938e+05  &     8.84e+04     &     2.192  &         0.029        &     2.01e+04    &     3.67e+05     \\\\\n",
       "\\textbf{TOWNHOUSE}        &    1.821e+05  &     9.36e+04     &     1.947  &         0.052        &    -1657.277    &     3.66e+05     \\\\\n",
       "\\bottomrule\n",
       "\\end{tabular}\n",
       "\\begin{tabular}{lclc}\n",
       "\\textbf{Omnibus:}       & 515.832 & \\textbf{  Durbin-Watson:     } &     1.918  \\\\\n",
       "\\textbf{Prob(Omnibus):} &   0.000 & \\textbf{  Jarque-Bera (JB):  } & 40297.338  \\\\\n",
       "\\textbf{Skew:}          &   3.945 & \\textbf{  Prob(JB):          } &      0.00  \\\\\n",
       "\\textbf{Kurtosis:}      &  44.819 & \\textbf{  Cond. No.          } &  9.27e+04  \\\\\n",
       "\\bottomrule\n",
       "\\end{tabular}\n",
       "%\\caption{OLS Regression Results}\n",
       "\\end{center}\n",
       "\n",
       "Notes: \\newline\n",
       " [1] R² is computed without centering (uncentered) since the model does not contain a constant. \\newline\n",
       " [2] Standard Errors assume that the covariance matrix of the errors is correctly specified. \\newline\n",
       " [3] The condition number is large, 9.27e+04. This might indicate that there are \\newline\n",
       " strong multicollinearity or other numerical problems."
      ],
      "text/plain": [
       "<class 'statsmodels.iolib.summary.Summary'>\n",
       "\"\"\"\n",
       "                                 OLS Regression Results                                \n",
       "=======================================================================================\n",
       "Dep. Variable:                  price   R-squared (uncentered):                   0.851\n",
       "Model:                            OLS   Adj. R-squared (uncentered):              0.842\n",
       "Method:                 Least Squares   F-statistic:                              92.76\n",
       "Date:                Wed, 08 Nov 2023   Prob (F-statistic):                   2.72e-186\n",
       "Time:                        21:16:23   Log-Likelihood:                         -7658.7\n",
       "No. Observations:                 534   AIC:                                  1.538e+04\n",
       "Df Residuals:                     503   BIC:                                  1.551e+04\n",
       "Df Model:                          31                                                  \n",
       "Covariance Type:            nonrobust                                                  \n",
       "====================================================================================\n",
       "                       coef    std err          t      P>|t|      [0.025      0.975]\n",
       "------------------------------------------------------------------------------------\n",
       "bathrooms         1.527e+05   2.73e+04      5.585      0.000     9.9e+04    2.06e+05\n",
       "bedrooms         -1.095e+04   2.26e+04     -0.486      0.627   -5.53e+04    3.34e+04\n",
       "livingArea         213.0015     15.828     13.457      0.000     181.904     244.099\n",
       "daysOnZillow      9774.9552   2826.899      3.458      0.001    4220.971    1.53e+04\n",
       "American Fork    -5.295e+05   9.11e+04     -5.811      0.000   -7.09e+05   -3.51e+05\n",
       "Cedar Hills      -4.392e+05   2.59e+05     -1.697      0.090   -9.48e+05    6.93e+04\n",
       "Draper           -3.951e+05   2.28e+05     -1.733      0.084   -8.43e+05    5.27e+04\n",
       "Eagle Mountain   -7.114e+05   9.46e+04     -7.519      0.000   -8.97e+05   -5.26e+05\n",
       "Elk Ridge        -7.932e+05   4.33e+05     -1.833      0.067   -1.64e+06    5.68e+04\n",
       "Genola           -3.463e+05   4.34e+05     -0.799      0.425    -1.2e+06    5.06e+05\n",
       "Goshen           -9.194e+05   3.14e+05     -2.929      0.004   -1.54e+06   -3.03e+05\n",
       "Heber City       -5.514e+05   1.62e+05     -3.397      0.001    -8.7e+05   -2.32e+05\n",
       "Highland         -6.126e+05   1.65e+05     -3.712      0.000   -9.37e+05   -2.88e+05\n",
       "Lehi             -6.698e+05   9.51e+04     -7.044      0.000   -8.57e+05   -4.83e+05\n",
       "Lindon           -8.118e+05   1.94e+05     -4.176      0.000   -1.19e+06    -4.3e+05\n",
       "Mapleton         -7.699e+05   1.22e+05     -6.312      0.000   -1.01e+06    -5.3e+05\n",
       "Orem             -5.598e+05   9.75e+04     -5.739      0.000   -7.51e+05   -3.68e+05\n",
       "Payson           -5.285e+05   1.23e+05     -4.300      0.000    -7.7e+05   -2.87e+05\n",
       "Pleasant Grove   -5.475e+05   1.36e+05     -4.014      0.000   -8.15e+05    -2.8e+05\n",
       "Provo            -4.944e+05   9.93e+04     -4.981      0.000   -6.89e+05   -2.99e+05\n",
       "Salem            -2.428e+05    1.3e+05     -1.863      0.063   -4.99e+05    1.33e+04\n",
       "Santaquin        -5.796e+05   1.45e+05     -3.998      0.000   -8.64e+05   -2.95e+05\n",
       "Saratoga Springs -6.173e+05   8.69e+04     -7.100      0.000   -7.88e+05   -4.46e+05\n",
       "Spanish Fork     -6.455e+05   1.19e+05     -5.404      0.000    -8.8e+05   -4.11e+05\n",
       "Springville       -4.54e+05   1.13e+05     -4.010      0.000   -6.76e+05   -2.32e+05\n",
       "Vineyard          -5.76e+05   1.67e+05     -3.456      0.001   -9.03e+05   -2.49e+05\n",
       "Woodland Hills    9.147e+05   2.64e+05      3.462      0.001    3.96e+05    1.43e+06\n",
       "MANUFACTURED      6.099e+04   3.13e+05      0.195      0.845   -5.53e+05    6.75e+05\n",
       "MULTI_FAMILY      2.248e+05   1.43e+05      1.568      0.118   -5.69e+04    5.06e+05\n",
       "SINGLE_FAMILY     1.938e+05   8.84e+04      2.192      0.029    2.01e+04    3.67e+05\n",
       "TOWNHOUSE         1.821e+05   9.36e+04      1.947      0.052   -1657.277    3.66e+05\n",
       "==============================================================================\n",
       "Omnibus:                      515.832   Durbin-Watson:                   1.918\n",
       "Prob(Omnibus):                  0.000   Jarque-Bera (JB):            40297.338\n",
       "Skew:                           3.945   Prob(JB):                         0.00\n",
       "Kurtosis:                      44.819   Cond. No.                     9.27e+04\n",
       "==============================================================================\n",
       "\n",
       "Notes:\n",
       "[1] R² is computed without centering (uncentered) since the model does not contain a constant.\n",
       "[2] Standard Errors assume that the covariance matrix of the errors is correctly specified.\n",
       "[3] The condition number is large, 9.27e+04. This might indicate that there are\n",
       "strong multicollinearity or other numerical problems.\n",
       "\"\"\""
      ]
     },
     "execution_count": 37,
     "metadata": {},
     "output_type": "execute_result"
    }
   ],
   "source": [
    "one_hot_encoded = pd.get_dummies(df['city'], drop_first = True)\n",
    "df_prepared = pd.concat([df, one_hot_encoded], axis=1)\n",
    "\n",
    "one_hot_encoded = pd.get_dummies(df_prepared['homeType'], drop_first = True)\n",
    "df_prepared = pd.concat([df_prepared, one_hot_encoded], axis=1)\n",
    "\n",
    "df_prepared = df_prepared.drop(columns = ['city', 'homeType', 'priceReduction', 'zipcode'])\n",
    "df_prepared = df_prepared[-df_prepared['livingArea'].isna()]\n",
    "\n",
    "model = sm.OLS(df_prepared['price'], df_prepared.drop(columns = 'price')).fit()\n",
    "model.summary()"
   ]
  }
 ],
 "metadata": {
  "kernelspec": {
   "display_name": "stat386",
   "language": "python",
   "name": "python3"
  },
  "language_info": {
   "codemirror_mode": {
    "name": "ipython",
    "version": 3
   },
   "file_extension": ".py",
   "mimetype": "text/x-python",
   "name": "python",
   "nbconvert_exporter": "python",
   "pygments_lexer": "ipython3",
   "version": "3.10.12"
  }
 },
 "nbformat": 4,
 "nbformat_minor": 2
}
