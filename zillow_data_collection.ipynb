{
 "cells": [
  {
   "cell_type": "code",
   "execution_count": 1,
   "metadata": {},
   "outputs": [],
   "source": [
    "import requests\n",
    "import pandas as pd\n",
    "import time\n",
    "import re\n",
    "\n",
    "pd.set_option('display.max_rows', None)\n",
    "pd.set_option('display.max_columns', None)\n",
    "pd.set_option('display.float_format', lambda x: '%.10f' % x)"
   ]
  },
  {
   "cell_type": "markdown",
   "metadata": {},
   "source": [
    "### Pulling Data From API"
   ]
  },
  {
   "cell_type": "markdown",
   "metadata": {},
   "source": [
    "This code is commented out to prevent overwriting the original dataset with an empty dataset due to reaching the max API requests"
   ]
  },
  {
   "cell_type": "code",
   "execution_count": 2,
   "metadata": {},
   "outputs": [],
   "source": [
    "# url = \"https://zillow56.p.rapidapi.com/search\"\n",
    "\n",
    "# with open('api.txt', 'r') as file:\n",
    "#     api_key = file.read()\n",
    "\n",
    "# headers = {\n",
    "# \t\"X-RapidAPI-Key\": api_key,\n",
    "# \t\"X-RapidAPI-Host\": \"zillow56.p.rapidapi.com\"\n",
    "# }\n",
    "\n",
    "# lst_1 = []\n",
    "\n",
    "# for page in range(1, 21):\n",
    "#     querystring = {\"location\":\"Utah County, UT\", \n",
    "#                 \"sortSelection\":\"days\", \n",
    "#                 \"page\":f\"{page}\"}\n",
    "\n",
    "#     response = requests.get(url, headers=headers, params=querystring)\n",
    "\n",
    "#     data = response.json()\n",
    "#     df__ = pd.json_normalize(data['results'])\n",
    "#     lst_1.append(df__)\n",
    "#     time.sleep(2)\n",
    "\n",
    "# df = pd.concat(lst_1)\n",
    "\n",
    "# df.to_csv('zillow_orig.csv')"
   ]
  },
  {
   "cell_type": "markdown",
   "metadata": {},
   "source": [
    "### Scraping the current 30 year fixed mortgage rate"
   ]
  },
  {
   "cell_type": "code",
   "execution_count": 4,
   "metadata": {},
   "outputs": [],
   "source": [
    "from selenium import webdriver\n",
    "from selenium.webdriver.chrome.service import Service as ChromeService\n",
    "from webdriver_manager.chrome import ChromeDriverManager\n",
    "from selenium.webdriver.common.by import By"
   ]
  },
  {
   "cell_type": "code",
   "execution_count": 5,
   "metadata": {},
   "outputs": [],
   "source": [
    "url = 'https://www.usbank.com/home-loans/mortgage/mortgage-rates/utah.html'\n",
    "\n",
    "driver = webdriver.Chrome(service=ChromeService(ChromeDriverManager().install()))\n",
    "driver.get(url)\n",
    "\n",
    "element = driver.find_elements(By.XPATH, '/html/body/div[2]/div/div/div/div[4]/div/div[3]/section/div/div/div/div/div/div/section/div/div/div/div/div/div[1]/div[2]/span[1]')"
   ]
  },
  {
   "cell_type": "code",
   "execution_count": 7,
   "metadata": {},
   "outputs": [],
   "source": [
    "todays_30_year_rate = element[0].text\n",
    "\n",
    "with open('current_rate.txt', \"w\") as file:\n",
    "    file.write(todays_30_year_rate)"
   ]
  },
  {
   "cell_type": "markdown",
   "metadata": {},
   "source": [
    "### Cleaning the Data"
   ]
  },
  {
   "cell_type": "code",
   "execution_count": 8,
   "metadata": {},
   "outputs": [],
   "source": [
    "df_orig = pd.read_csv('zillow_orig.csv')\n",
    "\n",
    "with open('current_rate.txt', \"r\") as file:\n",
    "    todays_30_year_rate = file.read()"
   ]
  },
  {
   "cell_type": "code",
   "execution_count": 10,
   "metadata": {},
   "outputs": [],
   "source": [
    "# Dropping columns and rows of no interest\n",
    "df = df_orig[['price', 'bathrooms', 'bedrooms', 'city', 'homeType', 'livingArea', 'zipcode', 'priceReduction', 'daysOnZillow', 'latitude', 'longitude']]\n",
    "df = df[~df['homeType'].isin(['LOT', 'MANUFACTURED', 'MULTI_FAMILY'])]"
   ]
  },
  {
   "cell_type": "code",
   "execution_count": 11,
   "metadata": {},
   "outputs": [],
   "source": [
    "# Calculating an estimate for a 30 year mortgage payment\n",
    "rate = float(re.search(r'\\d{1,2}\\.\\d+', todays_30_year_rate).group())/100\n",
    "\n",
    "def calculate_30_year_payment(price):\n",
    "    monthly_rate = rate/12\n",
    "    M = price * (monthly_rate * (1 + monthly_rate)**360)/(((1 + monthly_rate)**360) - 1)\n",
    "    return M\n",
    "\n",
    "df['30_year_mortgage'] = df['price'].apply(calculate_30_year_payment)"
   ]
  },
  {
   "cell_type": "code",
   "execution_count": 12,
   "metadata": {},
   "outputs": [],
   "source": [
    "# df.to_csv('zillow.csv')"
   ]
  }
 ],
 "metadata": {
  "kernelspec": {
   "display_name": "stat386",
   "language": "python",
   "name": "python3"
  },
  "language_info": {
   "codemirror_mode": {
    "name": "ipython",
    "version": 3
   },
   "file_extension": ".py",
   "mimetype": "text/x-python",
   "name": "python",
   "nbconvert_exporter": "python",
   "pygments_lexer": "ipython3",
   "version": "3.10.12"
  }
 },
 "nbformat": 4,
 "nbformat_minor": 2
}
